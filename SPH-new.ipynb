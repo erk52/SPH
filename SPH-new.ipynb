{
 "cells": [
  {
   "cell_type": "code",
   "execution_count": 1,
   "metadata": {
    "collapsed": true
   },
   "outputs": [],
   "source": [
    "import numpy as np\n",
    "import random\n",
    "import matplotlib.pyplot as plt\n",
    "%matplotlib inline"
   ]
  },
  {
   "cell_type": "code",
   "execution_count": 225,
   "metadata": {
    "collapsed": false
   },
   "outputs": [],
   "source": [
    "### 2-D SPH Toy Model\n",
    "ZERO = np.array([0., 0., 0.])\n",
    "DENS = 600\n",
    "MASS = 0.21\n",
    "GRAV = np.array([0., -9.8, 0.])\n",
    "KSTIFF = .3\n",
    "PFAC = 7.0\n",
    "THRESHOLDSQR = 7\n",
    "SURFTENS = 0.05\n",
    "VISC = .03"
   ]
  },
  {
   "cell_type": "code",
   "execution_count": 226,
   "metadata": {
    "collapsed": true
   },
   "outputs": [],
   "source": [
    "class Particle:\n",
    "    def __init__(self, loc= np.array([0., 0., 0.]), vel= np.array([0., 0., 0.])):\n",
    "        self.loc = loc\n",
    "        self.vel = vel\n",
    "        self.acc =  np.array([0., 0., 0.])\n",
    "        self.force =  np.array([0., 0., 0.])\n",
    "        \n",
    "        self.before_vel, self.after_vel =  np.array([0., 0., 0.]),  np.array([0., 0., 0.])\n",
    "        \n",
    "        self.neighbors = []\n",
    "        self.dens = DENS\n",
    "        self.mass = MASS\n",
    "        self.pressure = 101325\n",
    "        \n",
    "    def move(self, tstep):\n",
    "        pass"
   ]
  },
  {
   "cell_type": "code",
   "execution_count": 227,
   "metadata": {
    "collapsed": false
   },
   "outputs": [],
   "source": [
    "def wpoly6(r,h):\n",
    "    coeff = 315/(64*np.pi*h**9)\n",
    "    mag = np.sqrt(np.dot(r,r))\n",
    "    if mag > h:\n",
    "        return 0.0\n",
    "    \n",
    "    return coeff * (h**2 - mag**2)**3\n",
    "\n",
    "def dpoly6(r,h):\n",
    "    coeff = -945/(32*np.pi*h**9)\n",
    "    mag = np.sqrt(np.dot(r,r))\n",
    "    if mag > h:\n",
    "        return np.array([0., 0., 0.])\n",
    "    \n",
    "    return coeff * r * (h**2 - mag**2)**2\n",
    "\n",
    "def ddpoly6(r, h):\n",
    "    rmagsq = np.dot(r,r)\n",
    "    hsqr = h*h\n",
    "    coeff = -945/(32*np.pi*h**9)\n",
    "    if rmagsq <= hsqr:\n",
    "        return coeff * (hsqr - rmagsq)*(3*hsqr - 7*rmagsq)\n",
    "    else:\n",
    "        return 0.0\n",
    "    \n",
    "def viscoKernel(r, h):\n",
    "    rmag = np.sqrt(np.dot(r,r))\n",
    "    coeff = 45/(np.pi*h**6)\n",
    "    if rmag <=h:\n",
    "        return (h-rmag)*coeff\n",
    "    else:\n",
    "        return 0.0\n",
    "    \n",
    "def densityKernel(r,h):\n",
    "    rmagsq = np.dot(r,r)\n",
    "    hsqr = h**2\n",
    "    coeff = 315/(64*np.pi*h**9)\n",
    "    if rmagsq <= hsqr:\n",
    "        return coeff * (hsqr-rmagsq)**3\n",
    "    else:\n",
    "        return 0.0\n",
    "    \n",
    "def pressureKernel(r,h):\n",
    "    coeff = -45/(np.pi*h**6)\n",
    "    rmag = np.sqrt(np.dot(r,r))\n",
    "    if rmag <= h:\n",
    "        return r * coeff * (h-rmag)**2 * (1.0/rmag)\n",
    "    else:\n",
    "        return np.array([0., 0., 0.])"
   ]
  },
  {
   "cell_type": "code",
   "execution_count": 245,
   "metadata": {
    "collapsed": false
   },
   "outputs": [],
   "source": [
    "class SPH:\n",
    "    BOXWIDTH = 3.0\n",
    "    TSTEP = 0.003\n",
    "    def __init__(self, num_part=529, num_steps=1000, H=0.15):\n",
    "        self.RIGHTWALL = 1\n",
    "        self.H = H\n",
    "        self.N = num_part\n",
    "        self.particles = []#np.array([Particle() for i in range(num_part)])\n",
    "        self.num_steps = num_steps\n",
    "        for i in range(220):\n",
    "            x = random.uniform(0,1)\n",
    "            y = random.uniform(0,2.5)\n",
    "            self.particles.append(Particle(np.array([x,y,0.])))\n",
    "        self.spaces = {}\n",
    "    \n",
    "    def find_neighbors(self):\n",
    "        self.spaces = {}\n",
    "        for i,p in enumerate(self.particles):\n",
    "            x = int(np.floor(p.loc[0]/self.H))\n",
    "            y = int(np.floor(p.loc[1]/self.H))\n",
    "            key = str(x)+'x,' + str(y)\n",
    "            self.spaces[key] = self.spaces.get(key, []) + [i]\n",
    "            p.neighbors = []\n",
    "            \n",
    "        for i,p in enumerate(self.particles):\n",
    "            x = int(np.floor(p.loc[0]/self.H))\n",
    "            y = int(np.floor(p.loc[1]/self.H))\n",
    "            key = str(x)+'x,' + str(y)\n",
    "            p.neighbors = [n for n in self.spaces[key] if n != i]\n",
    "            \n",
    "            neighboring_cells = [str(x+1)+'x,' + str(y-1),str(x+1)+'x,' + str(y),str(x+1)+'x,' + str(y+1),\n",
    "                                str(x)+'x,' + str(y+1),str(x)+'x,' + str(y-1),\n",
    "                                str(x-1)+'x,' + str(y-1),str(x-1)+'x,' + str(y),str(x-1)+'x,' + str(y+1)]\n",
    "            for ky in neighboring_cells:\n",
    "                p.neighbors += self.spaces.get(ky, [])\n",
    "    \n",
    "    \n",
    "    def calc_density_pressure(self):\n",
    "        for i,p in enumerate(self.particles):\n",
    "            density, pressure = 0.,0.\n",
    "            for j in p.neighbors:\n",
    "                r_ = p.loc - self.particles[j].loc\n",
    "                density += self.particles[j].mass*densityKernel(r_, self.H)\n",
    "            density += p.mass*densityKernel(0, self.H)\n",
    "            p.dens = density\n",
    "            #p.pressure = KSTIFF * ((density/DENS)**PFAC - 1)\n",
    "            p.pressure = KSTIFF *(p.dens - DENS)\n",
    "    \n",
    "    def calc_forces(self):\n",
    "        for i,p in enumerate(self.particles):\n",
    "            pressure_force = np.array([0.,0., 0.])\n",
    "            visco_force = np.array([0.,0., 0.])\n",
    "            surface_force = np.array([0.,0., 0.])\n",
    "            surface_forcedn = 0.\n",
    "            for j in p.neighbors:\n",
    "                p2 = self.particles[j]\n",
    "                r_ = p.loc - p2.loc\n",
    "                pressure_force -= (p.dens + p2.dens)/(p.dens**2 + p.dens**2)*pressureKernel(r_,self.H)\n",
    "                visco_force += VISC*(p2.vel - p.vel) * p2.mass/p2.dens * viscoKernel(r_, self.H)\n",
    "                surface_force += (p2.mass/p2.dens) * dpoly6(r_, self.H)\n",
    "                surface_forcedn += ddpoly6(r_, self.H) * p2.mass/p2.dens\n",
    "                \n",
    "            \n",
    "            surface1 = np.sqrt(np.dot(surface_force,surface_force))\n",
    "            if surface1 >= THRESHOLDSQR:\n",
    "                surface_force = surface_force * SURFTENS * (-surface_forcedn/np.sqrt(surface1))\n",
    "            else:\n",
    "                surface_foce = 0\n",
    "            p.force = p.mass*GRAV + pressure_force + visco_force + surface_force\n",
    "            p.acc = (1/p.mass)*p.force\n",
    "    \n",
    "    def integrate(self):\n",
    "        for i,p in enumerate(self.particles):\n",
    "            p.after_vel = p.before_vel + SPH.TSTEP*p.acc\n",
    "            p.vel = 0.5 * (p.before_vel + p.after_vel)\n",
    "            p.before_vel = p.after_vel\n",
    "            p.loc += p.after_vel*SPH.TSTEP\n",
    "            \n",
    "            if p.loc[1] <= 0:\n",
    "                if p.after_vel[1] < 0:\n",
    "                    p.after_vel[1] *= -0.8\n",
    "                    p.after_vel[0] *= 0.8\n",
    "                p.vel = p.after_vel;\n",
    "                p.before_vel = p.after_vel\n",
    "                p.loc[1] = -p.loc[1]\n",
    "            ''' \n",
    "            if p.loc[1] >= SPH.BOXWIDTH:\n",
    "                if p.after_vel[1] > 0:\n",
    "                    p.after_vel[1] *= -0.8\n",
    "                    p.after_vel[0] *= 0.8\n",
    "                p.vel = p.after_vel;\n",
    "                p.before_vel = p.after_vel\n",
    "                p.loc[1] = 0.95*SPH.BOXWIDTH\n",
    "             '''   \n",
    "            if p.loc[0] <= 0:\n",
    "                if p.after_vel[0] < 0:\n",
    "                    p.after_vel[0] *= -0.8\n",
    "                    p.after_vel[1] *= 0.8\n",
    "                p.vel = p.after_vel;\n",
    "                p.before_vel = p.after_vel\n",
    "                p.loc[0] = -p.loc[0]\n",
    "                \n",
    "            if p.loc[0] >= self.RIGHTWALL:\n",
    "                if p.after_vel[0] > 0:\n",
    "                    p.after_vel[0] *= -0.8\n",
    "                    p.after_vel[1] *= 0.8\n",
    "                p.vel = p.after_vel;\n",
    "                p.before_vel = p.after_vel\n",
    "                p.loc[0] =self.RIGHTWALL - (p.loc[0] - self.RIGHTWALL)\n",
    "            \n",
    "    def simulate(self):\n",
    "        self.find_neighbors()\n",
    "        self.calc_density_pressure()\n",
    "        self.calc_forces()\n",
    "        self.integrate()\n",
    "        \n",
    "    def plot_frame(self):\n",
    "        X = np.array([p.loc[0] for p in self.particles])\n",
    "        Y = np.array([p.loc[1] for p in self.particles])\n",
    "        \n",
    "        fig, ax = plt.subplots(figsize=(7,7))\n",
    "        ax.plot(X, Y, 'o')\n",
    "        ax.set_xlim(0, SPH.BOXWIDTH)\n",
    "        ax.set_ylim(0, SPH.BOXWIDTH)\n",
    "        \n",
    "    def get_xy(self):\n",
    "        X = np.array([p.loc[0] for p in self.particles])\n",
    "        Y = np.array([p.loc[1] for p in self.particles])\n",
    "        return X, Y"
   ]
  },
  {
   "cell_type": "code",
   "execution_count": 246,
   "metadata": {
    "collapsed": false
   },
   "outputs": [],
   "source": [
    "s = SPH()"
   ]
  },
  {
   "cell_type": "code",
   "execution_count": 247,
   "metadata": {
    "collapsed": false
   },
   "outputs": [],
   "source": [
    "s.find_neighbors()\n",
    "s.calc_density_pressure()\n",
    "s.calc_forces()"
   ]
  },
  {
   "cell_type": "code",
   "execution_count": 248,
   "metadata": {
    "collapsed": false
   },
   "outputs": [],
   "source": [
    "s.simulate()"
   ]
  },
  {
   "cell_type": "code",
   "execution_count": 253,
   "metadata": {
    "collapsed": false
   },
   "outputs": [
    {
     "data": {
      "image/png": "[encoded data removed]",
      "text/plain": [
       "<matplotlib.figure.Figure at 0x79ac278>"
      ]
     },
     "metadata": {},
     "output_type": "display_data"
    }
   ],
   "source": [
    "for t in range(10):\n",
    "    s.simulate()\n",
    "s.plot_frame()"
   ]
  },
  {
   "cell_type": "code",
   "execution_count": 125,
   "metadata": {
    "collapsed": false
   },
   "outputs": [
    {
     "data": {
      "text/plain": [
       "(array([ 0.26584316,  0.24797367,  0.        ]), 220.1403911334188)"
      ]
     },
     "execution_count": 125,
     "metadata": {},
     "output_type": "execute_result"
    }
   ],
   "source": [
    "s.particles[5].loc, s.particles[25].dens"
   ]
  },
  {
   "cell_type": "code",
   "execution_count": 124,
   "metadata": {
    "collapsed": false
   },
   "outputs": [
    {
     "data": {
      "text/plain": [
       "98.489942384254491"
      ]
     },
     "execution_count": 124,
     "metadata": {},
     "output_type": "execute_result"
    }
   ],
   "source": [
    "s.particles[115].dens"
   ]
  },
  {
   "cell_type": "code",
   "execution_count": 249,
   "metadata": {
    "collapsed": false
   },
   "outputs": [
    {
     "data": {
      "image/png": "[encoded data removed]",
      "text/plain": [
       "<matplotlib.figure.Figure at 0x7c0b390>"
      ]
     },
     "metadata": {},
     "output_type": "display_data"
    }
   ],
   "source": [
    "s.plot_frame()"
   ]
  },
  {
   "cell_type": "code",
   "execution_count": 356,
   "metadata": {
    "collapsed": false
   },
   "outputs": [
    {
     "data": {
      "text/plain": [
       "0.68181818181818177"
      ]
     },
     "execution_count": 356,
     "metadata": {},
     "output_type": "execute_result"
    }
   ],
   "source": [
    "np.sqrt(np.dot(r_, r_))"
   ]
  },
  {
   "cell_type": "code",
   "execution_count": 337,
   "metadata": {
    "collapsed": false
   },
   "outputs": [
    {
     "data": {
      "text/plain": [
       "13.818413659884547"
      ]
     },
     "execution_count": 337,
     "metadata": {},
     "output_type": "execute_result"
    }
   ],
   "source": []
  },
  {
   "cell_type": "code",
   "execution_count": 103,
   "metadata": {
    "collapsed": false
   },
   "outputs": [],
   "source": [
    "from matplotlib import animation"
   ]
  },
  {
   "cell_type": "code",
   "execution_count": 254,
   "metadata": {
    "collapsed": true
   },
   "outputs": [],
   "source": [
    "SIM = SPH()"
   ]
  },
  {
   "cell_type": "code",
   "execution_count": 255,
   "metadata": {
    "collapsed": false
   },
   "outputs": [
    {
     "data": {
      "image/png": "[encoded data removed]",
      "text/plain": [
       "<matplotlib.figure.Figure at 0x7c147f0>"
      ]
     },
     "metadata": {},
     "output_type": "display_data"
    }
   ],
   "source": [
    "fig, ax = plt.subplots()\n",
    "ax.set_xlim(-0.1, SPH.BOXWIDTH)\n",
    "ax.set_ylim(-0.1, SPH.BOXWIDTH)\n",
    "line, = ax.plot([],[], 'bo')\n",
    "tm = 0\n",
    "def init():\n",
    "    line.set_data([],[])\n",
    "    return line,\n",
    "\n",
    "def animate(i):\n",
    "    SIM.simulate()\n",
    "    if i % 100 == 0:\n",
    "        print(i)\n",
    "    if i == 500:\n",
    "        SIM.RIGHTWALL = 3\n",
    "    #tm += 0.001\n",
    "    X,Y = SIM.get_xy()\n",
    "    line.set_data(X,Y)\n",
    "    return line,"
   ]
  },
  {
   "cell_type": "code",
   "execution_count": 241,
   "metadata": {
    "collapsed": true
   },
   "outputs": [],
   "source": [
    "anim = animation.FuncAnimation(fig, animate, init_func=init,frames=1500, interval=100, blit=True)"
   ]
  },
  {
   "cell_type": "code",
   "execution_count": null,
   "metadata": {
    "collapsed": false,
    "scrolled": true
   },
   "outputs": [
    {
     "name": "stdout",
     "output_type": "stream",
     "text": [
      "0\n"
     ]
    }
   ],
   "source": [
    "begin = datetime.datetime.now()\n",
    "anim.save('sph_2017-st.mp4', fps=50, extra_args=['-vcodec', 'libx264'])\n",
    "end = datetime.datetime.now()"
   ]
  },
  {
   "cell_type": "code",
   "execution_count": 26,
   "metadata": {
    "collapsed": false
   },
   "outputs": [
    {
     "name": "stdout",
     "output_type": "stream",
     "text": [
      "1 loops, best of 3: 2.55 s per loop\n"
     ]
    }
   ],
   "source": [
    "%timeit SIM.simulate()"
   ]
  },
  {
   "cell_type": "code",
   "execution_count": 244,
   "metadata": {
    "collapsed": false
   },
   "outputs": [
    {
     "data": {
      "text/plain": [
       "datetime.timedelta(0, 306, 572962)"
      ]
     },
     "execution_count": 244,
     "metadata": {},
     "output_type": "execute_result"
    }
   ],
   "source": [
    "(end - begin)"
   ]
  },
  {
   "cell_type": "code",
   "execution_count": 235,
   "metadata": {
    "collapsed": false
   },
   "outputs": [
    {
     "data": {
      "text/plain": [
       "datetime.datetime(2017, 6, 16, 16, 37, 32, 594345)"
      ]
     },
     "execution_count": 235,
     "metadata": {},
     "output_type": "execute_result"
    }
   ],
   "source": [
    "end"
   ]
  },
  {
   "cell_type": "code",
   "execution_count": 236,
   "metadata": {
    "collapsed": false
   },
   "outputs": [
    {
     "data": {
      "text/plain": [
       "datetime.datetime(2017, 6, 16, 16, 34, 47, 235052)"
      ]
     },
     "execution_count": 236,
     "metadata": {},
     "output_type": "execute_result"
    }
   ],
   "source": [
    "begin"
   ]
  },
  {
   "cell_type": "code",
   "execution_count": 237,
   "metadata": {
    "collapsed": false
   },
   "outputs": [
    {
     "data": {
      "text/plain": [
       "2.75"
      ]
     },
     "execution_count": 237,
     "metadata": {},
     "output_type": "execute_result"
    }
   ],
   "source": [
    "165/60"
   ]
  },
  {
   "cell_type": "code",
   "execution_count": null,
   "metadata": {
    "collapsed": true
   },
   "outputs": [],
   "source": []
  }
 ],
 "metadata": {
  "kernelspec": {
   "display_name": "Python 3",
   "language": "python",
   "name": "python3"
  },
  "language_info": {
   "codemirror_mode": {
    "name": "ipython",
    "version": 3
   },
   "file_extension": ".py",
   "mimetype": "text/x-python",
   "name": "python",
   "nbconvert_exporter": "python",
   "pygments_lexer": "ipython3",
   "version": "3.4.4"
  }
 },
 "nbformat": 4,
 "nbformat_minor": 0
}
