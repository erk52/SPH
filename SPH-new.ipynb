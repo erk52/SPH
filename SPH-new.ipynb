{
 "cells": [
  {
   "cell_type": "code",
   "execution_count": 1,
   "metadata": {
    "collapsed": true
   },
   "outputs": [],
   "source": [
    "import numpy as np\n",
    "import random\n",
    "import matplotlib.pyplot as plt\n",
    "%matplotlib inline"
   ]
  },
  {
   "cell_type": "code",
   "execution_count": 2,
   "metadata": {
    "collapsed": false
   },
   "outputs": [],
   "source": [
    "### 2-D SPH Toy Model\n",
    "ZERO = np.array([0., 0., 0.])\n",
    "DENS = 600\n",
    "MASS = 0.18\n",
    "GRAV = np.array([0., -9.8, 0.])\n",
    "KSTIFF = .3\n",
    "PFAC = 7.0\n",
    "THRESHOLDSQR = 7\n",
    "SURFTENS = 0.05\n",
    "VISC = .03"
   ]
  },
  {
   "cell_type": "code",
   "execution_count": 3,
   "metadata": {
    "collapsed": true
   },
   "outputs": [],
   "source": [
    "class Particle:\n",
    "    def __init__(self, loc= np.array([0., 0., 0.]), vel=np.array([0., 0., 0.]), col=1):\n",
    "        self.loc = loc\n",
    "        self.vel = vel\n",
    "        self.acc =  np.array([0., 0., 0.])\n",
    "        self.force =  np.array([0., 0., 0.])\n",
    "        self.color = col\n",
    "        self.before_vel, self.after_vel =  vel,  np.array([0., 0., 0.])\n",
    "        \n",
    "        self.neighbors = []\n",
    "        self.dens = DENS\n",
    "        self.mass = MASS\n",
    "        self.pressure = 101325\n",
    "        \n",
    "    def move(self, tstep):\n",
    "        pass"
   ]
  },
  {
   "cell_type": "code",
   "execution_count": 4,
   "metadata": {
    "collapsed": false
   },
   "outputs": [],
   "source": [
    "def wpoly6(r,h):\n",
    "    coeff = 315/(64*np.pi*h**9)\n",
    "    mag = np.sqrt(np.dot(r,r))\n",
    "    if mag > h:\n",
    "        return 0.0\n",
    "    \n",
    "    return coeff * (h**2 - mag**2)**3\n",
    "\n",
    "def dpoly6(r,h):\n",
    "    coeff = -945/(32*np.pi*h**9)\n",
    "    mag = np.sqrt(np.dot(r,r))\n",
    "    if mag > h:\n",
    "        return np.array([0., 0., 0.])\n",
    "    \n",
    "    return coeff * r * (h**2 - mag**2)**2\n",
    "\n",
    "def ddpoly6(r, h):\n",
    "    rmagsq = np.dot(r,r)\n",
    "    hsqr = h*h\n",
    "    coeff = -945/(32*np.pi*h**9)\n",
    "    if rmagsq <= hsqr:\n",
    "        return coeff * (hsqr - rmagsq)*(3*hsqr - 7*rmagsq)\n",
    "    else:\n",
    "        return 0.0\n",
    "    \n",
    "def viscoKernel(r, h):\n",
    "    rmag = np.sqrt(np.dot(r,r))\n",
    "    coeff = 45/(np.pi*h**6)\n",
    "    if rmag <=h:\n",
    "        return (h-rmag)*coeff\n",
    "    else:\n",
    "        return 0.0\n",
    "    \n",
    "def densityKernel(r,h):\n",
    "    rmagsq = np.dot(r,r)\n",
    "    hsqr = h**2\n",
    "    coeff = 315/(64*np.pi*h**9)\n",
    "    if rmagsq <= hsqr:\n",
    "        return coeff * (hsqr-rmagsq)**3\n",
    "    else:\n",
    "        return 0.0\n",
    "    \n",
    "def pressureKernel(r,h):\n",
    "    coeff = -45/(np.pi*h**6)\n",
    "    rmag = np.sqrt(np.dot(r,r))\n",
    "    if rmag <= h:\n",
    "        return r * coeff * (h-rmag)**2 * (1.0/rmag)\n",
    "    else:\n",
    "        return np.array([0., 0., 0.])"
   ]
  },
  {
   "cell_type": "code",
   "execution_count": 5,
   "metadata": {
    "collapsed": false
   },
   "outputs": [],
   "source": [
    "class SPH:\n",
    "    BOXWIDTH = 3.0\n",
    "    TSTEP = 0.003\n",
    "    def __init__(self, num_part=529, num_steps=1000, H=0.15):\n",
    "        self.RIGHTWALL = 3\n",
    "        self.H = H\n",
    "        self.N = num_part\n",
    "        self.particles = []#np.array([Particle() for i in range(num_part)])\n",
    "        self.num_steps = num_steps\n",
    "        self.spaces = {}\n",
    "    \n",
    "    def dam_break(self):\n",
    "        self.particles = []\n",
    "        for i in range(350):\n",
    "            x = random.uniform(0,1)\n",
    "            y = random.uniform(0,3)\n",
    "            self.particles.append(Particle(np.array([x,y,0.])))\n",
    "            \n",
    "    def moving_plate(self):\n",
    "        self.particles = []\n",
    "        for i in range(350):\n",
    "            x = random.uniform(0,3)\n",
    "            y = random.uniform(0,2)\n",
    "            self.particles.append(Particle(np.array([x,y,0.])))\n",
    "            \n",
    "        for xcord in np.linspace(-1, 4, 50):\n",
    "            self.particles.append(Particle(np.array([xcord, 0., 0.,]), np.array([0.1, 0., 0.]), -1))\n",
    "            self.particles.append(Particle(np.array([xcord, -self.H, 0.,]), np.array([0.1, 0., 0.]), -1))\n",
    "    \n",
    "    def find_neighbors(self):\n",
    "        self.spaces = {}\n",
    "        for i,p in enumerate(self.particles):\n",
    "            x = int(np.floor(p.loc[0]/self.H))\n",
    "            y = int(np.floor(p.loc[1]/self.H))\n",
    "            key = str(x)+'x,' + str(y)\n",
    "            self.spaces[key] = self.spaces.get(key, []) + [i]\n",
    "            p.neighbors = []\n",
    "            \n",
    "        for i,p in enumerate(self.particles):\n",
    "            x = int(np.floor(p.loc[0]/self.H))\n",
    "            y = int(np.floor(p.loc[1]/self.H))\n",
    "            key = str(x)+'x,' + str(y)\n",
    "            p.neighbors = [n for n in self.spaces[key] if n != i]\n",
    "            \n",
    "            neighboring_cells = [str(x+1)+'x,' + str(y-1),str(x+1)+'x,' + str(y),str(x+1)+'x,' + str(y+1),\n",
    "                                str(x)+'x,' + str(y+1),str(x)+'x,' + str(y-1),\n",
    "                                str(x-1)+'x,' + str(y-1),str(x-1)+'x,' + str(y),str(x-1)+'x,' + str(y+1)]\n",
    "            for ky in neighboring_cells:\n",
    "                p.neighbors += self.spaces.get(ky, [])\n",
    "    \n",
    "    \n",
    "    def calc_density_pressure(self):\n",
    "        for i,p in enumerate(self.particles):\n",
    "            density, pressure = 0.,0.\n",
    "            for j in p.neighbors:\n",
    "                r_ = p.loc - self.particles[j].loc\n",
    "                density += self.particles[j].mass*densityKernel(r_, self.H)\n",
    "            density += p.mass*densityKernel(0, self.H)\n",
    "            p.dens = density\n",
    "            #p.pressure = KSTIFF * ((density/DENS)**PFAC - 1)\n",
    "            p.pressure = KSTIFF *(p.dens - DENS)\n",
    "    \n",
    "    def calc_forces(self):\n",
    "        for i,p in enumerate(self.particles):\n",
    "            pressure_force = np.array([0.,0., 0.])\n",
    "            visco_force = np.array([0.,0., 0.])\n",
    "            surface_force = np.array([0.,0., 0.])\n",
    "            surface_forcedn = 0.\n",
    "            for j in p.neighbors:\n",
    "                p2 = self.particles[j]\n",
    "                r_ = p.loc - p2.loc\n",
    "                pressure_force -= (p.dens + p2.dens)/(p.dens**2 + p.dens**2)*pressureKernel(r_,self.H)\n",
    "                visco_force += VISC*(p2.vel - p.vel) * p2.mass/p2.dens * viscoKernel(r_, self.H)\n",
    "                surface_force += (p2.mass/p2.dens) * dpoly6(r_, self.H)\n",
    "                surface_forcedn += ddpoly6(r_, self.H) * p2.mass/p2.dens\n",
    "                \n",
    "            \n",
    "            surface1 = np.sqrt(np.dot(surface_force,surface_force))\n",
    "            if surface1 >= THRESHOLDSQR:\n",
    "                surface_force = surface_force * SURFTENS * (-surface_forcedn/np.sqrt(surface1))\n",
    "            else:\n",
    "                surface_foce = 0\n",
    "            p.force = p.mass*GRAV + pressure_force + visco_force + surface_force\n",
    "            p.acc = (1/p.mass)*p.force\n",
    "    \n",
    "    def integrate(self):\n",
    "        for i,p in enumerate(self.particles):\n",
    "            if p.color == -1:\n",
    "                p.acc = np.array([0.,0.,0.])\n",
    "                \n",
    "            p.after_vel = p.before_vel + SPH.TSTEP*p.acc\n",
    "            p.vel = 0.5 * (p.before_vel + p.after_vel)\n",
    "            p.before_vel = p.after_vel\n",
    "            p.loc += p.after_vel*SPH.TSTEP\n",
    "            \n",
    "            if p.color == -1:\n",
    "                if p.loc[0] >= 4:# SPH.BOXWIDTH*1.2:\n",
    "                    p.loc[0] -= 5#SPH.BOXWIDTH*1.2\n",
    "                continue\n",
    "            \n",
    "            if p.loc[1] <= 0:\n",
    "                if p.after_vel[1] < 0:\n",
    "                    p.after_vel[1] *= -0.8\n",
    "                    p.after_vel[0] *= 0.8\n",
    "                p.vel = p.after_vel;\n",
    "                p.before_vel = p.after_vel\n",
    "                p.loc[1] = -p.loc[1]\n",
    "            ''' \n",
    "            if p.loc[1] >= SPH.BOXWIDTH:\n",
    "                if p.after_vel[1] > 0:\n",
    "                    p.after_vel[1] *= -0.8\n",
    "                    p.after_vel[0] *= 0.8\n",
    "                p.vel = p.after_vel;\n",
    "                p.before_vel = p.after_vel\n",
    "                p.loc[1] = 0.95*SPH.BOXWIDTH\n",
    "             '''   \n",
    "            if p.loc[0] <= 0:\n",
    "                '''\n",
    "                if p.after_vel[0] < 0:\n",
    "                    p.after_vel[0] *= -0.8\n",
    "                    p.after_vel[1] *= 0.8\n",
    "                p.vel = p.after_vel;\n",
    "                p.before_vel = p.after_vel\n",
    "                p.loc[0] = -p.loc[0]\n",
    "                '''\n",
    "                p.loc[0] += self.RIGHTWALL\n",
    "                \n",
    "            if p.loc[0] >= self.RIGHTWALL:\n",
    "                '''\n",
    "                if p.after_vel[0] > 0:\n",
    "                    p.after_vel[0] *= -0.8\n",
    "                    p.after_vel[1] *= 0.8\n",
    "                p.vel = p.after_vel;\n",
    "                p.before_vel = p.after_vel\n",
    "                p.loc[0] =self.RIGHTWALL - (p.loc[0] - self.RIGHTWALL)\n",
    "                '''\n",
    "                p.loc[0] -= self.RIGHTWALL;\n",
    "            \n",
    "    def simulate(self):\n",
    "        self.find_neighbors()\n",
    "        self.calc_density_pressure()\n",
    "        self.calc_forces()\n",
    "        self.integrate()\n",
    "        \n",
    "    def plot_frame(self):\n",
    "        X = np.array([p.loc[0] for p in self.particles])\n",
    "        Y = np.array([p.loc[1] for p in self.particles])\n",
    "        \n",
    "        fig, ax = plt.subplots(figsize=(7,7))\n",
    "        ax.plot(X, Y, 'o')\n",
    "        ax.set_xlim(0, SPH.BOXWIDTH)\n",
    "        ax.set_ylim(0, SPH.BOXWIDTH)\n",
    "        \n",
    "    def get_xy(self):\n",
    "        X = np.array([p.loc[0] for p in self.particles])\n",
    "        Y = np.array([p.loc[1] for p in self.particles])\n",
    "        return X, Y"
   ]
  },
  {
   "cell_type": "code",
   "execution_count": 6,
   "metadata": {
    "collapsed": false
   },
   "outputs": [],
   "source": [
    "import datetime"
   ]
  },
  {
   "cell_type": "code",
   "execution_count": 7,
   "metadata": {
    "collapsed": false
   },
   "outputs": [],
   "source": [
    "from matplotlib import animation"
   ]
  },
  {
   "cell_type": "code",
   "execution_count": 8,
   "metadata": {
    "collapsed": false
   },
   "outputs": [],
   "source": [
    "SIM = SPH()\n",
    "SIM.moving_plate()"
   ]
  },
  {
   "cell_type": "code",
   "execution_count": 9,
   "metadata": {
    "collapsed": false
   },
   "outputs": [
    {
     "data": {
      "image/png": "[encoded data removed]",
      "text/plain": [
       "<matplotlib.figure.Figure at 0x7621f28>"
      ]
     },
     "metadata": {},
     "output_type": "display_data"
    }
   ],
   "source": [
    "fig, ax = plt.subplots()\n",
    "ax.set_xlim(-0.25, 1.1*SPH.BOXWIDTH)\n",
    "ax.set_ylim(-0.25, 1.1*SPH.BOXWIDTH)\n",
    "line, = ax.plot([],[], 'bo')\n",
    "line2, = ax.plot([],[],'ko')\n",
    "tm = 0\n",
    "def init():\n",
    "    line.set_data([],[])\n",
    "    line2.set_data([],[])\n",
    "    return line,line2\n",
    "\n",
    "def animate(i):\n",
    "    SIM.simulate()\n",
    "    if i % 100 == 0:\n",
    "        print(i)\n",
    "    \n",
    "    \n",
    "    X,Y = SIM.get_xy()\n",
    "    X = np.array([p.loc[0] for p in SIM.particles if p.color == 1])\n",
    "    Y = np.array([p.loc[1] for p in SIM.particles if p.color == 1])\n",
    "    line.set_data(X,Y)\n",
    "    X2 = np.array([p.loc[0] for p in SIM.particles if p.color == -1])\n",
    "    Y2 = np.array([p.loc[1] for p in SIM.particles if p.color == -1])\n",
    "    line2.set_data(X2,Y2)\n",
    "    return line,line2"
   ]
  },
  {
   "cell_type": "code",
   "execution_count": 10,
   "metadata": {
    "collapsed": true
   },
   "outputs": [],
   "source": [
    "anim = animation.FuncAnimation(fig, animate, init_func=init,frames=1200, interval=100, blit=True)"
   ]
  },
  {
   "cell_type": "code",
   "execution_count": 11,
   "metadata": {
    "collapsed": false,
    "scrolled": true
   },
   "outputs": [
    {
     "name": "stdout",
     "output_type": "stream",
     "text": [
      "0\n",
      "100\n",
      "200\n",
      "300\n",
      "400\n",
      "500\n",
      "600\n",
      "700\n",
      "800\n",
      "900\n",
      "1000\n",
      "1100\n"
     ]
    }
   ],
   "source": [
    "begin = datetime.datetime.now()\n",
    "anim.save('sph_2017-plate.mp4', fps=50, extra_args=['-vcodec', 'libx264'])\n",
    "end = datetime.datetime.now()"
   ]
  },
  {
   "cell_type": "code",
   "execution_count": null,
   "metadata": {
    "collapsed": false
   },
   "outputs": [],
   "source": [
    "%timeit SIM.simulate()"
   ]
  },
  {
   "cell_type": "code",
   "execution_count": null,
   "metadata": {
    "collapsed": false
   },
   "outputs": [],
   "source": [
    "(end - begin)"
   ]
  },
  {
   "cell_type": "code",
   "execution_count": null,
   "metadata": {
    "collapsed": false
   },
   "outputs": [],
   "source": [
    "SIM.particles[-1].color"
   ]
  },
  {
   "cell_type": "code",
   "execution_count": null,
   "metadata": {
    "collapsed": false
   },
   "outputs": [],
   "source": [
    "begin"
   ]
  },
  {
   "cell_type": "code",
   "execution_count": null,
   "metadata": {
    "collapsed": false
   },
   "outputs": [],
   "source": [
    "165/60"
   ]
  },
  {
   "cell_type": "code",
   "execution_count": null,
   "metadata": {
    "collapsed": false
   },
   "outputs": [],
   "source": [
    "SIM.particles[-1].vel"
   ]
  },
  {
   "cell_type": "code",
   "execution_count": null,
   "metadata": {
    "collapsed": true
   },
   "outputs": [],
   "source": [
    "for p in SIM.particles:\n",
    "    if p.color == -1:\n",
    "        p.vel[0] = 0.1;"
   ]
  },
  {
   "cell_type": "code",
   "execution_count": 13,
   "metadata": {
    "collapsed": false
   },
   "outputs": [
    {
     "data": {
      "text/plain": [
       "<matplotlib.image.AxesImage at 0x83f99b0>"
      ]
     },
     "execution_count": 13,
     "metadata": {},
     "output_type": "execute_result"
    },
    {
     "data": {
      "image/png": "[encoded data removed]",
      "text/plain": [
       "<matplotlib.figure.Figure at 0x8359c88>"
      ]
     },
     "metadata": {},
     "output_type": "display_data"
    }
   ],
   "source": [
    "import scipy.interpolate\n",
    "\n",
    "x,y,z = [a.loc[0] for a in SIM.particles], [a.loc[1] for a in SIM.particles], [a.vel[0] for a in SIM.particles]\n",
    "xi, yi = np.linspace(0, 3),np.linspace(0, 3)\n",
    "xi, yi = np.meshgrid(xi,yi)\n",
    "zi = scipy.interpolate.griddata((x,y),z,(xi,yi), method='linear')\n",
    "\n",
    "plt.imshow(zi, vmin=min(z), vmax=max(z), origin='lower',\n",
    "           extent=[0, 3, 0, 3])"
   ]
  },
  {
   "cell_type": "code",
   "execution_count": 16,
   "metadata": {
    "collapsed": false
   },
   "outputs": [
    {
     "data": {
      "text/plain": [
       "(0, 3)"
      ]
     },
     "execution_count": 16,
     "metadata": {},
     "output_type": "execute_result"
    },
    {
     "data": {
      "image/png": "[encoded data removed]",
      "text/plain": [
       "<matplotlib.figure.Figure at 0x94ef048>"
      ]
     },
     "metadata": {},
     "output_type": "display_data"
    }
   ],
   "source": [
    "X, Y = [a.loc[0] for a in SIM.particles], [a.loc[1] for a in SIM.particles]\n",
    "U, V = [a.vel[0] for a in SIM.particles], [a.vel[1] for a in SIM.particles]\n",
    "xi, yi = np.linspace(0, 3),np.linspace(0, 3)\n",
    "xi, yi = np.meshgrid(xi,yi)\n",
    "\n",
    "plt.quiver(X, Y, U, V)\n",
    "plt.xlim(0,3)"
   ]
  },
  {
   "cell_type": "code",
   "execution_count": null,
   "metadata": {
    "collapsed": true
   },
   "outputs": [],
   "source": []
  }
 ],
 "metadata": {
  "kernelspec": {
   "display_name": "Python 3",
   "language": "python",
   "name": "python3"
  },
  "language_info": {
   "codemirror_mode": {
    "name": "ipython",
    "version": 3
   },
   "file_extension": ".py",
   "mimetype": "text/x-python",
   "name": "python",
   "nbconvert_exporter": "python",
   "pygments_lexer": "ipython3",
   "version": "3.4.4"
  }
 },
 "nbformat": 4,
 "nbformat_minor": 0
}
